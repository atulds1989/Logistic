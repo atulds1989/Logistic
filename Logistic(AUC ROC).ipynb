{
 "cells": [
  {
   "cell_type": "markdown",
   "metadata": {
    "id": "CwmZBeJ-zmzP"
   },
   "source": [
    " Logistic Regression"
   ]
  },
  {
   "cell_type": "code",
   "execution_count": null,
   "metadata": {},
   "outputs": [],
   "source": []
  },
  {
   "cell_type": "code",
   "execution_count": 14,
   "metadata": {
    "id": "Uf2-CohDVDXM"
   },
   "outputs": [],
   "source": [
    "import pandas as pd"
   ]
  },
  {
   "cell_type": "code",
   "execution_count": 15,
   "metadata": {
    "id": "-WiriHs8ZRDQ"
   },
   "outputs": [],
   "source": [
    "file_path = r'hw1_q2_data.csv'\n",
    "df = pd.read_csv(file_path)"
   ]
  },
  {
   "cell_type": "code",
   "execution_count": 16,
   "metadata": {
    "id": "-ur-JT02ag4p",
    "outputId": "67d1637d-3993-4d5c-b593-c32b65ac36de"
   },
   "outputs": [
    {
     "name": "stdout",
     "output_type": "stream",
     "text": [
      "                Player  AtBat  Hits  HmRun  Runs  RBI  Walks  Years  CAtBat  \\\n",
      "0       -Andy Allanson    293    66      1    30   29     14      1     293   \n",
      "1          -Alan Ashby    315    81      7    24   38     39     14    3449   \n",
      "2         -Alvin Davis    479   130     18    66   72     76      3    1624   \n",
      "3        -Andre Dawson    496   141     20    65   78     37     11    5628   \n",
      "4    -Andres Galarraga    321    87     10    39   42     30      2     396   \n",
      "..                 ...    ...   ...    ...   ...  ...    ...    ...     ...   \n",
      "317      -Willie McGee    497   127      7    65   48     37      5    2703   \n",
      "318   -Willie Randolph    492   136      5    76   50     94     12    5511   \n",
      "319    -Wayne Tolleson    475   126      3    61   43     52      6    1700   \n",
      "320     -Willie Upshaw    573   144      9    85   60     78      8    3198   \n",
      "321     -Willie Wilson    631   170      9    77   44     31     11    4908   \n",
      "\n",
      "     CHits  ...  CRuns  CRBI  CWalks  League Division PutOuts  Assists  \\\n",
      "0       66  ...     30    29      14       A        E     446       33   \n",
      "1      835  ...    321   414     375       N        W     632       43   \n",
      "2      457  ...    224   266     263       A        W     880       82   \n",
      "3     1575  ...    828   838     354       N        E     200       11   \n",
      "4      101  ...     48    46      33       N        E     805       40   \n",
      "..     ...  ...    ...   ...     ...     ...      ...     ...      ...   \n",
      "317    806  ...    379   311     138       N        E     325        9   \n",
      "318   1511  ...    897   451     875       A        E     313      381   \n",
      "319    433  ...    217    93     146       A        W      37      113   \n",
      "320    857  ...    470   420     332       A        E    1314      131   \n",
      "321   1457  ...    775   357     249       A        W     408        4   \n",
      "\n",
      "     Errors  Salary  NewLeague  \n",
      "0        20     NaN          A  \n",
      "1        10   475.0          N  \n",
      "2        14   480.0          A  \n",
      "3         3   500.0          N  \n",
      "4         4    91.5          N  \n",
      "..      ...     ...        ...  \n",
      "317       3   700.0          N  \n",
      "318      20   875.0          A  \n",
      "319       7   385.0          A  \n",
      "320      12   960.0          A  \n",
      "321       3  1000.0          A  \n",
      "\n",
      "[322 rows x 21 columns]\n"
     ]
    }
   ],
   "source": [
    "print(df)"
   ]
  },
  {
   "cell_type": "code",
   "execution_count": 17,
   "metadata": {
    "id": "c8m4vL0hVDXO",
    "outputId": "c17ac4e3-850a-4897-9757-9d105ba65373"
   },
   "outputs": [
    {
     "data": {
      "text/html": [
       "<div>\n",
       "<style scoped>\n",
       "    .dataframe tbody tr th:only-of-type {\n",
       "        vertical-align: middle;\n",
       "    }\n",
       "\n",
       "    .dataframe tbody tr th {\n",
       "        vertical-align: top;\n",
       "    }\n",
       "\n",
       "    .dataframe thead th {\n",
       "        text-align: right;\n",
       "    }\n",
       "</style>\n",
       "<table border=\"1\" class=\"dataframe\">\n",
       "  <thead>\n",
       "    <tr style=\"text-align: right;\">\n",
       "      <th></th>\n",
       "      <th>Player</th>\n",
       "      <th>AtBat</th>\n",
       "      <th>Hits</th>\n",
       "      <th>HmRun</th>\n",
       "      <th>Runs</th>\n",
       "      <th>RBI</th>\n",
       "      <th>Walks</th>\n",
       "      <th>Years</th>\n",
       "      <th>CAtBat</th>\n",
       "      <th>CHits</th>\n",
       "      <th>CHmRun</th>\n",
       "      <th>CRuns</th>\n",
       "      <th>CRBI</th>\n",
       "      <th>CWalks</th>\n",
       "      <th>League</th>\n",
       "      <th>Division</th>\n",
       "      <th>PutOuts</th>\n",
       "      <th>Assists</th>\n",
       "      <th>Errors</th>\n",
       "      <th>Salary</th>\n",
       "      <th>NewLeague</th>\n",
       "    </tr>\n",
       "  </thead>\n",
       "  <tbody>\n",
       "    <tr>\n",
       "      <th>0</th>\n",
       "      <td>-Andy Allanson</td>\n",
       "      <td>293</td>\n",
       "      <td>66</td>\n",
       "      <td>1</td>\n",
       "      <td>30</td>\n",
       "      <td>29</td>\n",
       "      <td>14</td>\n",
       "      <td>1</td>\n",
       "      <td>293</td>\n",
       "      <td>66</td>\n",
       "      <td>1</td>\n",
       "      <td>30</td>\n",
       "      <td>29</td>\n",
       "      <td>14</td>\n",
       "      <td>A</td>\n",
       "      <td>E</td>\n",
       "      <td>446</td>\n",
       "      <td>33</td>\n",
       "      <td>20</td>\n",
       "      <td>NaN</td>\n",
       "      <td>A</td>\n",
       "    </tr>\n",
       "    <tr>\n",
       "      <th>1</th>\n",
       "      <td>-Alan Ashby</td>\n",
       "      <td>315</td>\n",
       "      <td>81</td>\n",
       "      <td>7</td>\n",
       "      <td>24</td>\n",
       "      <td>38</td>\n",
       "      <td>39</td>\n",
       "      <td>14</td>\n",
       "      <td>3449</td>\n",
       "      <td>835</td>\n",
       "      <td>69</td>\n",
       "      <td>321</td>\n",
       "      <td>414</td>\n",
       "      <td>375</td>\n",
       "      <td>N</td>\n",
       "      <td>W</td>\n",
       "      <td>632</td>\n",
       "      <td>43</td>\n",
       "      <td>10</td>\n",
       "      <td>475.0</td>\n",
       "      <td>N</td>\n",
       "    </tr>\n",
       "    <tr>\n",
       "      <th>2</th>\n",
       "      <td>-Alvin Davis</td>\n",
       "      <td>479</td>\n",
       "      <td>130</td>\n",
       "      <td>18</td>\n",
       "      <td>66</td>\n",
       "      <td>72</td>\n",
       "      <td>76</td>\n",
       "      <td>3</td>\n",
       "      <td>1624</td>\n",
       "      <td>457</td>\n",
       "      <td>63</td>\n",
       "      <td>224</td>\n",
       "      <td>266</td>\n",
       "      <td>263</td>\n",
       "      <td>A</td>\n",
       "      <td>W</td>\n",
       "      <td>880</td>\n",
       "      <td>82</td>\n",
       "      <td>14</td>\n",
       "      <td>480.0</td>\n",
       "      <td>A</td>\n",
       "    </tr>\n",
       "    <tr>\n",
       "      <th>3</th>\n",
       "      <td>-Andre Dawson</td>\n",
       "      <td>496</td>\n",
       "      <td>141</td>\n",
       "      <td>20</td>\n",
       "      <td>65</td>\n",
       "      <td>78</td>\n",
       "      <td>37</td>\n",
       "      <td>11</td>\n",
       "      <td>5628</td>\n",
       "      <td>1575</td>\n",
       "      <td>225</td>\n",
       "      <td>828</td>\n",
       "      <td>838</td>\n",
       "      <td>354</td>\n",
       "      <td>N</td>\n",
       "      <td>E</td>\n",
       "      <td>200</td>\n",
       "      <td>11</td>\n",
       "      <td>3</td>\n",
       "      <td>500.0</td>\n",
       "      <td>N</td>\n",
       "    </tr>\n",
       "    <tr>\n",
       "      <th>4</th>\n",
       "      <td>-Andres Galarraga</td>\n",
       "      <td>321</td>\n",
       "      <td>87</td>\n",
       "      <td>10</td>\n",
       "      <td>39</td>\n",
       "      <td>42</td>\n",
       "      <td>30</td>\n",
       "      <td>2</td>\n",
       "      <td>396</td>\n",
       "      <td>101</td>\n",
       "      <td>12</td>\n",
       "      <td>48</td>\n",
       "      <td>46</td>\n",
       "      <td>33</td>\n",
       "      <td>N</td>\n",
       "      <td>E</td>\n",
       "      <td>805</td>\n",
       "      <td>40</td>\n",
       "      <td>4</td>\n",
       "      <td>91.5</td>\n",
       "      <td>N</td>\n",
       "    </tr>\n",
       "  </tbody>\n",
       "</table>\n",
       "</div>"
      ],
      "text/plain": [
       "              Player  AtBat  Hits  HmRun  Runs  RBI  Walks  Years  CAtBat  CHits  CHmRun  CRuns  CRBI  CWalks League Division  PutOuts  Assists  Errors  Salary NewLeague\n",
       "0     -Andy Allanson    293    66      1    30   29     14      1     293     66       1     30    29      14      A        E      446       33      20     NaN         A\n",
       "1        -Alan Ashby    315    81      7    24   38     39     14    3449    835      69    321   414     375      N        W      632       43      10   475.0         N\n",
       "2       -Alvin Davis    479   130     18    66   72     76      3    1624    457      63    224   266     263      A        W      880       82      14   480.0         A\n",
       "3      -Andre Dawson    496   141     20    65   78     37     11    5628   1575     225    828   838     354      N        E      200       11       3   500.0         N\n",
       "4  -Andres Galarraga    321    87     10    39   42     30      2     396    101      12     48    46      33      N        E      805       40       4    91.5         N"
      ]
     },
     "execution_count": 17,
     "metadata": {},
     "output_type": "execute_result"
    }
   ],
   "source": [
    "pd.set_option('display.max_rows', 500)\n",
    "pd.set_option('display.max_columns', 500)\n",
    "pd.set_option('display.width', 1000)\n",
    "df.head()"
   ]
  },
  {
   "cell_type": "code",
   "execution_count": 18,
   "metadata": {
    "id": "B76k-5tlasXz",
    "outputId": "ce5d7223-8b99-49dd-e7ba-a0597a9050e4"
   },
   "outputs": [
    {
     "name": "stdout",
     "output_type": "stream",
     "text": [
      "No. of Rows 322\n",
      "No. of Columns 21\n"
     ]
    }
   ],
   "source": [
    "print(\"No. of Rows\",df.shape[0])\n",
    "print(\"No. of Columns\",df.shape[1])"
   ]
  },
  {
   "cell_type": "markdown",
   "metadata": {
    "id": "tchYuWjgr-wL"
   },
   "source": [
    "### 4. Does the data have any missing values? How many are missing? Print the number of missing values.\n",
    "##### In pandas, check out isnul() and isnul().sum()\n"
   ]
  },
  {
   "cell_type": "code",
   "execution_count": 19,
   "metadata": {
    "id": "ymOh8d6Xay7d",
    "outputId": "0f01e1c4-f2a3-43ba-e3dc-0880897c0a80"
   },
   "outputs": [
    {
     "name": "stdout",
     "output_type": "stream",
     "text": [
      "<class 'pandas.core.frame.DataFrame'>\n",
      "RangeIndex: 322 entries, 0 to 321\n",
      "Data columns (total 21 columns):\n",
      " #   Column     Non-Null Count  Dtype  \n",
      "---  ------     --------------  -----  \n",
      " 0   Player     322 non-null    object \n",
      " 1   AtBat      322 non-null    int64  \n",
      " 2   Hits       322 non-null    int64  \n",
      " 3   HmRun      322 non-null    int64  \n",
      " 4   Runs       322 non-null    int64  \n",
      " 5   RBI        322 non-null    int64  \n",
      " 6   Walks      322 non-null    int64  \n",
      " 7   Years      322 non-null    int64  \n",
      " 8   CAtBat     322 non-null    int64  \n",
      " 9   CHits      322 non-null    int64  \n",
      " 10  CHmRun     322 non-null    int64  \n",
      " 11  CRuns      322 non-null    int64  \n",
      " 12  CRBI       322 non-null    int64  \n",
      " 13  CWalks     322 non-null    int64  \n",
      " 14  League     322 non-null    object \n",
      " 15  Division   322 non-null    object \n",
      " 16  PutOuts    322 non-null    int64  \n",
      " 17  Assists    322 non-null    int64  \n",
      " 18  Errors     322 non-null    int64  \n",
      " 19  Salary     263 non-null    float64\n",
      " 20  NewLeague  322 non-null    object \n",
      "dtypes: float64(1), int64(16), object(4)\n",
      "memory usage: 53.0+ KB\n",
      "None\n"
     ]
    }
   ],
   "source": [
    "print(df.info())"
   ]
  },
  {
   "cell_type": "code",
   "execution_count": 20,
   "metadata": {
    "id": "bNv-bxz1VDXQ",
    "outputId": "ac642e2c-4c42-4d64-9328-24d51f160123"
   },
   "outputs": [
    {
     "name": "stdout",
     "output_type": "stream",
     "text": [
      "59\n"
     ]
    }
   ],
   "source": [
    "null_val=df.isnull().sum()\n",
    "print(null_val.sum())"
   ]
  },
  {
   "cell_type": "code",
   "execution_count": 21,
   "metadata": {
    "id": "5MJhP49hbx3-"
   },
   "outputs": [],
   "source": [
    "df.dropna(axis=0,inplace=True)"
   ]
  },
  {
   "cell_type": "code",
   "execution_count": 22,
   "metadata": {
    "id": "szXepR3LVDXS",
    "outputId": "12588e00-d7a4-42c0-896e-c4558b916cc6"
   },
   "outputs": [
    {
     "data": {
      "text/plain": [
       "(263, 21)"
      ]
     },
     "execution_count": 22,
     "metadata": {},
     "output_type": "execute_result"
    }
   ],
   "source": [
    "df.shape"
   ]
  },
  {
   "cell_type": "code",
   "execution_count": 23,
   "metadata": {
    "id": "tyiXRDveVDXT",
    "outputId": "a91a8adf-7c62-4651-c025-33145dc1693d"
   },
   "outputs": [
    {
     "name": "stdout",
     "output_type": "stream",
     "text": [
      "Player       0\n",
      "AtBat        0\n",
      "Hits         0\n",
      "HmRun        0\n",
      "Runs         0\n",
      "RBI          0\n",
      "Walks        0\n",
      "Years        0\n",
      "CAtBat       0\n",
      "CHits        0\n",
      "CHmRun       0\n",
      "CRuns        0\n",
      "CRBI         0\n",
      "CWalks       0\n",
      "League       0\n",
      "Division     0\n",
      "PutOuts      0\n",
      "Assists      0\n",
      "Errors       0\n",
      "Salary       0\n",
      "NewLeague    0\n",
      "dtype: int64\n"
     ]
    }
   ],
   "source": [
    "print(df.isnull().sum())"
   ]
  },
  {
   "cell_type": "code",
   "execution_count": 24,
   "metadata": {
    "id": "02cNSaT3cPkx"
   },
   "outputs": [],
   "source": [
    "features = df.drop('NewLeague',axis=1)\n",
    "labels = df[\"NewLeague\"]"
   ]
  },
  {
   "cell_type": "code",
   "execution_count": 25,
   "metadata": {
    "id": "6VEa7yS4VDXV"
   },
   "outputs": [],
   "source": [
    "features.drop('Player',axis=1,inplace=True)"
   ]
  },
  {
   "cell_type": "code",
   "execution_count": 26,
   "metadata": {
    "id": "3vbwXBe_VDXV",
    "outputId": "8ae7ca69-21f7-4186-a888-d9d737a4be53"
   },
   "outputs": [
    {
     "data": {
      "text/html": [
       "<div>\n",
       "<style scoped>\n",
       "    .dataframe tbody tr th:only-of-type {\n",
       "        vertical-align: middle;\n",
       "    }\n",
       "\n",
       "    .dataframe tbody tr th {\n",
       "        vertical-align: top;\n",
       "    }\n",
       "\n",
       "    .dataframe thead th {\n",
       "        text-align: right;\n",
       "    }\n",
       "</style>\n",
       "<table border=\"1\" class=\"dataframe\">\n",
       "  <thead>\n",
       "    <tr style=\"text-align: right;\">\n",
       "      <th></th>\n",
       "      <th>AtBat</th>\n",
       "      <th>Hits</th>\n",
       "      <th>HmRun</th>\n",
       "      <th>Runs</th>\n",
       "      <th>RBI</th>\n",
       "      <th>Walks</th>\n",
       "      <th>Years</th>\n",
       "      <th>CAtBat</th>\n",
       "      <th>CHits</th>\n",
       "      <th>CHmRun</th>\n",
       "      <th>CRuns</th>\n",
       "      <th>CRBI</th>\n",
       "      <th>CWalks</th>\n",
       "      <th>League</th>\n",
       "      <th>Division</th>\n",
       "      <th>PutOuts</th>\n",
       "      <th>Assists</th>\n",
       "      <th>Errors</th>\n",
       "      <th>Salary</th>\n",
       "    </tr>\n",
       "  </thead>\n",
       "  <tbody>\n",
       "    <tr>\n",
       "      <th>1</th>\n",
       "      <td>315</td>\n",
       "      <td>81</td>\n",
       "      <td>7</td>\n",
       "      <td>24</td>\n",
       "      <td>38</td>\n",
       "      <td>39</td>\n",
       "      <td>14</td>\n",
       "      <td>3449</td>\n",
       "      <td>835</td>\n",
       "      <td>69</td>\n",
       "      <td>321</td>\n",
       "      <td>414</td>\n",
       "      <td>375</td>\n",
       "      <td>N</td>\n",
       "      <td>W</td>\n",
       "      <td>632</td>\n",
       "      <td>43</td>\n",
       "      <td>10</td>\n",
       "      <td>475.0</td>\n",
       "    </tr>\n",
       "    <tr>\n",
       "      <th>2</th>\n",
       "      <td>479</td>\n",
       "      <td>130</td>\n",
       "      <td>18</td>\n",
       "      <td>66</td>\n",
       "      <td>72</td>\n",
       "      <td>76</td>\n",
       "      <td>3</td>\n",
       "      <td>1624</td>\n",
       "      <td>457</td>\n",
       "      <td>63</td>\n",
       "      <td>224</td>\n",
       "      <td>266</td>\n",
       "      <td>263</td>\n",
       "      <td>A</td>\n",
       "      <td>W</td>\n",
       "      <td>880</td>\n",
       "      <td>82</td>\n",
       "      <td>14</td>\n",
       "      <td>480.0</td>\n",
       "    </tr>\n",
       "    <tr>\n",
       "      <th>3</th>\n",
       "      <td>496</td>\n",
       "      <td>141</td>\n",
       "      <td>20</td>\n",
       "      <td>65</td>\n",
       "      <td>78</td>\n",
       "      <td>37</td>\n",
       "      <td>11</td>\n",
       "      <td>5628</td>\n",
       "      <td>1575</td>\n",
       "      <td>225</td>\n",
       "      <td>828</td>\n",
       "      <td>838</td>\n",
       "      <td>354</td>\n",
       "      <td>N</td>\n",
       "      <td>E</td>\n",
       "      <td>200</td>\n",
       "      <td>11</td>\n",
       "      <td>3</td>\n",
       "      <td>500.0</td>\n",
       "    </tr>\n",
       "    <tr>\n",
       "      <th>4</th>\n",
       "      <td>321</td>\n",
       "      <td>87</td>\n",
       "      <td>10</td>\n",
       "      <td>39</td>\n",
       "      <td>42</td>\n",
       "      <td>30</td>\n",
       "      <td>2</td>\n",
       "      <td>396</td>\n",
       "      <td>101</td>\n",
       "      <td>12</td>\n",
       "      <td>48</td>\n",
       "      <td>46</td>\n",
       "      <td>33</td>\n",
       "      <td>N</td>\n",
       "      <td>E</td>\n",
       "      <td>805</td>\n",
       "      <td>40</td>\n",
       "      <td>4</td>\n",
       "      <td>91.5</td>\n",
       "    </tr>\n",
       "    <tr>\n",
       "      <th>5</th>\n",
       "      <td>594</td>\n",
       "      <td>169</td>\n",
       "      <td>4</td>\n",
       "      <td>74</td>\n",
       "      <td>51</td>\n",
       "      <td>35</td>\n",
       "      <td>11</td>\n",
       "      <td>4408</td>\n",
       "      <td>1133</td>\n",
       "      <td>19</td>\n",
       "      <td>501</td>\n",
       "      <td>336</td>\n",
       "      <td>194</td>\n",
       "      <td>A</td>\n",
       "      <td>W</td>\n",
       "      <td>282</td>\n",
       "      <td>421</td>\n",
       "      <td>25</td>\n",
       "      <td>750.0</td>\n",
       "    </tr>\n",
       "  </tbody>\n",
       "</table>\n",
       "</div>"
      ],
      "text/plain": [
       "   AtBat  Hits  HmRun  Runs  RBI  Walks  Years  CAtBat  CHits  CHmRun  CRuns  CRBI  CWalks League Division  PutOuts  Assists  Errors  Salary\n",
       "1    315    81      7    24   38     39     14    3449    835      69    321   414     375      N        W      632       43      10   475.0\n",
       "2    479   130     18    66   72     76      3    1624    457      63    224   266     263      A        W      880       82      14   480.0\n",
       "3    496   141     20    65   78     37     11    5628   1575     225    828   838     354      N        E      200       11       3   500.0\n",
       "4    321    87     10    39   42     30      2     396    101      12     48    46      33      N        E      805       40       4    91.5\n",
       "5    594   169      4    74   51     35     11    4408   1133      19    501   336     194      A        W      282      421      25   750.0"
      ]
     },
     "execution_count": 26,
     "metadata": {},
     "output_type": "execute_result"
    }
   ],
   "source": [
    "features.head()"
   ]
  },
  {
   "cell_type": "code",
   "execution_count": 27,
   "metadata": {
    "id": "Y4y2E8niVDXV",
    "outputId": "2b99188c-d2e5-4c62-ba91-1102b1a56d6f"
   },
   "outputs": [
    {
     "data": {
      "text/plain": [
       "1    N\n",
       "2    A\n",
       "3    N\n",
       "4    N\n",
       "5    A\n",
       "Name: NewLeague, dtype: object"
      ]
     },
     "execution_count": 27,
     "metadata": {},
     "output_type": "execute_result"
    }
   ],
   "source": [
    "labels.head()"
   ]
  },
  {
   "cell_type": "code",
   "execution_count": 28,
   "metadata": {
    "id": "BAqeAuWIc-hN"
   },
   "outputs": [],
   "source": [
    "data_obj1=features.select_dtypes(exclude=['int64','float64'])"
   ]
  },
  {
   "cell_type": "code",
   "execution_count": 29,
   "metadata": {
    "id": "pHReeN6ZVDXX",
    "outputId": "c9553d1d-9d45-444c-961a-a3679f109945"
   },
   "outputs": [
    {
     "data": {
      "text/html": [
       "<div>\n",
       "<style scoped>\n",
       "    .dataframe tbody tr th:only-of-type {\n",
       "        vertical-align: middle;\n",
       "    }\n",
       "\n",
       "    .dataframe tbody tr th {\n",
       "        vertical-align: top;\n",
       "    }\n",
       "\n",
       "    .dataframe thead th {\n",
       "        text-align: right;\n",
       "    }\n",
       "</style>\n",
       "<table border=\"1\" class=\"dataframe\">\n",
       "  <thead>\n",
       "    <tr style=\"text-align: right;\">\n",
       "      <th></th>\n",
       "      <th>League</th>\n",
       "      <th>Division</th>\n",
       "    </tr>\n",
       "  </thead>\n",
       "  <tbody>\n",
       "    <tr>\n",
       "      <th>1</th>\n",
       "      <td>N</td>\n",
       "      <td>W</td>\n",
       "    </tr>\n",
       "    <tr>\n",
       "      <th>2</th>\n",
       "      <td>A</td>\n",
       "      <td>W</td>\n",
       "    </tr>\n",
       "    <tr>\n",
       "      <th>3</th>\n",
       "      <td>N</td>\n",
       "      <td>E</td>\n",
       "    </tr>\n",
       "    <tr>\n",
       "      <th>4</th>\n",
       "      <td>N</td>\n",
       "      <td>E</td>\n",
       "    </tr>\n",
       "    <tr>\n",
       "      <th>5</th>\n",
       "      <td>A</td>\n",
       "      <td>W</td>\n",
       "    </tr>\n",
       "  </tbody>\n",
       "</table>\n",
       "</div>"
      ],
      "text/plain": [
       "  League Division\n",
       "1      N        W\n",
       "2      A        W\n",
       "3      N        E\n",
       "4      N        E\n",
       "5      A        W"
      ]
     },
     "execution_count": 29,
     "metadata": {},
     "output_type": "execute_result"
    }
   ],
   "source": [
    "data_obj1.head()"
   ]
  },
  {
   "cell_type": "code",
   "execution_count": 30,
   "metadata": {
    "id": "MjBAMONvVDXX"
   },
   "outputs": [],
   "source": [
    "data_obj2=features.select_dtypes(include=['int64','float64'])"
   ]
  },
  {
   "cell_type": "code",
   "execution_count": 31,
   "metadata": {
    "id": "oX6Qln4sVDXX",
    "outputId": "85f1ac73-9f2a-491a-b523-e4f97d93bbd6"
   },
   "outputs": [
    {
     "data": {
      "text/html": [
       "<div>\n",
       "<style scoped>\n",
       "    .dataframe tbody tr th:only-of-type {\n",
       "        vertical-align: middle;\n",
       "    }\n",
       "\n",
       "    .dataframe tbody tr th {\n",
       "        vertical-align: top;\n",
       "    }\n",
       "\n",
       "    .dataframe thead th {\n",
       "        text-align: right;\n",
       "    }\n",
       "</style>\n",
       "<table border=\"1\" class=\"dataframe\">\n",
       "  <thead>\n",
       "    <tr style=\"text-align: right;\">\n",
       "      <th></th>\n",
       "      <th>AtBat</th>\n",
       "      <th>Hits</th>\n",
       "      <th>HmRun</th>\n",
       "      <th>Runs</th>\n",
       "      <th>RBI</th>\n",
       "      <th>Walks</th>\n",
       "      <th>Years</th>\n",
       "      <th>CAtBat</th>\n",
       "      <th>CHits</th>\n",
       "      <th>CHmRun</th>\n",
       "      <th>CRuns</th>\n",
       "      <th>CRBI</th>\n",
       "      <th>CWalks</th>\n",
       "      <th>PutOuts</th>\n",
       "      <th>Assists</th>\n",
       "      <th>Errors</th>\n",
       "      <th>Salary</th>\n",
       "    </tr>\n",
       "  </thead>\n",
       "  <tbody>\n",
       "    <tr>\n",
       "      <th>1</th>\n",
       "      <td>315</td>\n",
       "      <td>81</td>\n",
       "      <td>7</td>\n",
       "      <td>24</td>\n",
       "      <td>38</td>\n",
       "      <td>39</td>\n",
       "      <td>14</td>\n",
       "      <td>3449</td>\n",
       "      <td>835</td>\n",
       "      <td>69</td>\n",
       "      <td>321</td>\n",
       "      <td>414</td>\n",
       "      <td>375</td>\n",
       "      <td>632</td>\n",
       "      <td>43</td>\n",
       "      <td>10</td>\n",
       "      <td>475.0</td>\n",
       "    </tr>\n",
       "    <tr>\n",
       "      <th>2</th>\n",
       "      <td>479</td>\n",
       "      <td>130</td>\n",
       "      <td>18</td>\n",
       "      <td>66</td>\n",
       "      <td>72</td>\n",
       "      <td>76</td>\n",
       "      <td>3</td>\n",
       "      <td>1624</td>\n",
       "      <td>457</td>\n",
       "      <td>63</td>\n",
       "      <td>224</td>\n",
       "      <td>266</td>\n",
       "      <td>263</td>\n",
       "      <td>880</td>\n",
       "      <td>82</td>\n",
       "      <td>14</td>\n",
       "      <td>480.0</td>\n",
       "    </tr>\n",
       "    <tr>\n",
       "      <th>3</th>\n",
       "      <td>496</td>\n",
       "      <td>141</td>\n",
       "      <td>20</td>\n",
       "      <td>65</td>\n",
       "      <td>78</td>\n",
       "      <td>37</td>\n",
       "      <td>11</td>\n",
       "      <td>5628</td>\n",
       "      <td>1575</td>\n",
       "      <td>225</td>\n",
       "      <td>828</td>\n",
       "      <td>838</td>\n",
       "      <td>354</td>\n",
       "      <td>200</td>\n",
       "      <td>11</td>\n",
       "      <td>3</td>\n",
       "      <td>500.0</td>\n",
       "    </tr>\n",
       "    <tr>\n",
       "      <th>4</th>\n",
       "      <td>321</td>\n",
       "      <td>87</td>\n",
       "      <td>10</td>\n",
       "      <td>39</td>\n",
       "      <td>42</td>\n",
       "      <td>30</td>\n",
       "      <td>2</td>\n",
       "      <td>396</td>\n",
       "      <td>101</td>\n",
       "      <td>12</td>\n",
       "      <td>48</td>\n",
       "      <td>46</td>\n",
       "      <td>33</td>\n",
       "      <td>805</td>\n",
       "      <td>40</td>\n",
       "      <td>4</td>\n",
       "      <td>91.5</td>\n",
       "    </tr>\n",
       "    <tr>\n",
       "      <th>5</th>\n",
       "      <td>594</td>\n",
       "      <td>169</td>\n",
       "      <td>4</td>\n",
       "      <td>74</td>\n",
       "      <td>51</td>\n",
       "      <td>35</td>\n",
       "      <td>11</td>\n",
       "      <td>4408</td>\n",
       "      <td>1133</td>\n",
       "      <td>19</td>\n",
       "      <td>501</td>\n",
       "      <td>336</td>\n",
       "      <td>194</td>\n",
       "      <td>282</td>\n",
       "      <td>421</td>\n",
       "      <td>25</td>\n",
       "      <td>750.0</td>\n",
       "    </tr>\n",
       "  </tbody>\n",
       "</table>\n",
       "</div>"
      ],
      "text/plain": [
       "   AtBat  Hits  HmRun  Runs  RBI  Walks  Years  CAtBat  CHits  CHmRun  CRuns  CRBI  CWalks  PutOuts  Assists  Errors  Salary\n",
       "1    315    81      7    24   38     39     14    3449    835      69    321   414     375      632       43      10   475.0\n",
       "2    479   130     18    66   72     76      3    1624    457      63    224   266     263      880       82      14   480.0\n",
       "3    496   141     20    65   78     37     11    5628   1575     225    828   838     354      200       11       3   500.0\n",
       "4    321    87     10    39   42     30      2     396    101      12     48    46      33      805       40       4    91.5\n",
       "5    594   169      4    74   51     35     11    4408   1133      19    501   336     194      282      421      25   750.0"
      ]
     },
     "execution_count": 31,
     "metadata": {},
     "output_type": "execute_result"
    }
   ],
   "source": [
    "data_obj2.head()"
   ]
  },
  {
   "cell_type": "code",
   "execution_count": 32,
   "metadata": {
    "id": "u7OF5CPoVDXY",
    "outputId": "76d02fd2-cfc2-4075-b153-9ad0d8cd8cde"
   },
   "outputs": [
    {
     "name": "stdout",
     "output_type": "stream",
     "text": [
      "Division\n",
      "W    134\n",
      "E    129\n",
      "dtype: int64\n",
      "League\n",
      "A    139\n",
      "N    124\n",
      "dtype: int64\n"
     ]
    }
   ],
   "source": [
    "print(data_obj1.value_counts('Division'))\n",
    "print(data_obj1.value_counts('League'))"
   ]
  },
  {
   "cell_type": "code",
   "execution_count": 33,
   "metadata": {
    "id": "Q_l9h6GwVDXY",
    "outputId": "caec604e-234e-4e35-f22c-4335ddefbbb4"
   },
   "outputs": [
    {
     "data": {
      "text/html": [
       "<div>\n",
       "<style scoped>\n",
       "    .dataframe tbody tr th:only-of-type {\n",
       "        vertical-align: middle;\n",
       "    }\n",
       "\n",
       "    .dataframe tbody tr th {\n",
       "        vertical-align: top;\n",
       "    }\n",
       "\n",
       "    .dataframe thead th {\n",
       "        text-align: right;\n",
       "    }\n",
       "</style>\n",
       "<table border=\"1\" class=\"dataframe\">\n",
       "  <thead>\n",
       "    <tr style=\"text-align: right;\">\n",
       "      <th></th>\n",
       "      <th>League_A</th>\n",
       "      <th>League_N</th>\n",
       "      <th>Division_E</th>\n",
       "      <th>Division_W</th>\n",
       "    </tr>\n",
       "  </thead>\n",
       "  <tbody>\n",
       "    <tr>\n",
       "      <th>1</th>\n",
       "      <td>0</td>\n",
       "      <td>1</td>\n",
       "      <td>0</td>\n",
       "      <td>1</td>\n",
       "    </tr>\n",
       "    <tr>\n",
       "      <th>2</th>\n",
       "      <td>1</td>\n",
       "      <td>0</td>\n",
       "      <td>0</td>\n",
       "      <td>1</td>\n",
       "    </tr>\n",
       "    <tr>\n",
       "      <th>3</th>\n",
       "      <td>0</td>\n",
       "      <td>1</td>\n",
       "      <td>1</td>\n",
       "      <td>0</td>\n",
       "    </tr>\n",
       "    <tr>\n",
       "      <th>4</th>\n",
       "      <td>0</td>\n",
       "      <td>1</td>\n",
       "      <td>1</td>\n",
       "      <td>0</td>\n",
       "    </tr>\n",
       "    <tr>\n",
       "      <th>5</th>\n",
       "      <td>1</td>\n",
       "      <td>0</td>\n",
       "      <td>0</td>\n",
       "      <td>1</td>\n",
       "    </tr>\n",
       "  </tbody>\n",
       "</table>\n",
       "</div>"
      ],
      "text/plain": [
       "   League_A  League_N  Division_E  Division_W\n",
       "1         0         1           0           1\n",
       "2         1         0           0           1\n",
       "3         0         1           1           0\n",
       "4         0         1           1           0\n",
       "5         1         0           0           1"
      ]
     },
     "execution_count": 33,
     "metadata": {},
     "output_type": "execute_result"
    }
   ],
   "source": [
    "data_dummy1=pd.get_dummies(data_obj1)\n",
    "data_dummy1.head()"
   ]
  },
  {
   "cell_type": "code",
   "execution_count": 34,
   "metadata": {
    "id": "oDijPJi9VDXZ",
    "outputId": "2fbc64ca-016e-4d2e-d032-4f288fae85ce"
   },
   "outputs": [
    {
     "data": {
      "text/plain": [
       "(263, 4)"
      ]
     },
     "execution_count": 34,
     "metadata": {},
     "output_type": "execute_result"
    }
   ],
   "source": [
    "data_dummy1.shape"
   ]
  },
  {
   "cell_type": "code",
   "execution_count": 35,
   "metadata": {
    "id": "G__wC3JLVDXZ",
    "outputId": "bfd72feb-334d-45ec-b6dc-32017388f427"
   },
   "outputs": [
    {
     "data": {
      "text/plain": [
       "(263, 17)"
      ]
     },
     "execution_count": 35,
     "metadata": {},
     "output_type": "execute_result"
    }
   ],
   "source": [
    "data_obj2.shape"
   ]
  },
  {
   "cell_type": "code",
   "execution_count": 36,
   "metadata": {
    "id": "E3jhpJP4VDXa",
    "outputId": "559d6030-bcee-433d-d783-994510260d82"
   },
   "outputs": [
    {
     "data": {
      "text/html": [
       "<div>\n",
       "<style scoped>\n",
       "    .dataframe tbody tr th:only-of-type {\n",
       "        vertical-align: middle;\n",
       "    }\n",
       "\n",
       "    .dataframe tbody tr th {\n",
       "        vertical-align: top;\n",
       "    }\n",
       "\n",
       "    .dataframe thead th {\n",
       "        text-align: right;\n",
       "    }\n",
       "</style>\n",
       "<table border=\"1\" class=\"dataframe\">\n",
       "  <thead>\n",
       "    <tr style=\"text-align: right;\">\n",
       "      <th></th>\n",
       "      <th>index</th>\n",
       "      <th>0</th>\n",
       "      <th>1</th>\n",
       "      <th>2</th>\n",
       "      <th>3</th>\n",
       "      <th>4</th>\n",
       "      <th>5</th>\n",
       "      <th>6</th>\n",
       "      <th>7</th>\n",
       "      <th>8</th>\n",
       "      <th>9</th>\n",
       "      <th>10</th>\n",
       "      <th>11</th>\n",
       "      <th>12</th>\n",
       "      <th>13</th>\n",
       "      <th>14</th>\n",
       "      <th>15</th>\n",
       "      <th>16</th>\n",
       "      <th>17</th>\n",
       "      <th>18</th>\n",
       "      <th>19</th>\n",
       "      <th>20</th>\n",
       "    </tr>\n",
       "  </thead>\n",
       "  <tbody>\n",
       "    <tr>\n",
       "      <th>0</th>\n",
       "      <td>1</td>\n",
       "      <td>0</td>\n",
       "      <td>1</td>\n",
       "      <td>0</td>\n",
       "      <td>1</td>\n",
       "      <td>315</td>\n",
       "      <td>81</td>\n",
       "      <td>7</td>\n",
       "      <td>24</td>\n",
       "      <td>38</td>\n",
       "      <td>39</td>\n",
       "      <td>14</td>\n",
       "      <td>3449</td>\n",
       "      <td>835</td>\n",
       "      <td>69</td>\n",
       "      <td>321</td>\n",
       "      <td>414</td>\n",
       "      <td>375</td>\n",
       "      <td>632</td>\n",
       "      <td>43</td>\n",
       "      <td>10</td>\n",
       "      <td>475.0</td>\n",
       "    </tr>\n",
       "    <tr>\n",
       "      <th>1</th>\n",
       "      <td>2</td>\n",
       "      <td>1</td>\n",
       "      <td>0</td>\n",
       "      <td>0</td>\n",
       "      <td>1</td>\n",
       "      <td>479</td>\n",
       "      <td>130</td>\n",
       "      <td>18</td>\n",
       "      <td>66</td>\n",
       "      <td>72</td>\n",
       "      <td>76</td>\n",
       "      <td>3</td>\n",
       "      <td>1624</td>\n",
       "      <td>457</td>\n",
       "      <td>63</td>\n",
       "      <td>224</td>\n",
       "      <td>266</td>\n",
       "      <td>263</td>\n",
       "      <td>880</td>\n",
       "      <td>82</td>\n",
       "      <td>14</td>\n",
       "      <td>480.0</td>\n",
       "    </tr>\n",
       "    <tr>\n",
       "      <th>2</th>\n",
       "      <td>3</td>\n",
       "      <td>0</td>\n",
       "      <td>1</td>\n",
       "      <td>1</td>\n",
       "      <td>0</td>\n",
       "      <td>496</td>\n",
       "      <td>141</td>\n",
       "      <td>20</td>\n",
       "      <td>65</td>\n",
       "      <td>78</td>\n",
       "      <td>37</td>\n",
       "      <td>11</td>\n",
       "      <td>5628</td>\n",
       "      <td>1575</td>\n",
       "      <td>225</td>\n",
       "      <td>828</td>\n",
       "      <td>838</td>\n",
       "      <td>354</td>\n",
       "      <td>200</td>\n",
       "      <td>11</td>\n",
       "      <td>3</td>\n",
       "      <td>500.0</td>\n",
       "    </tr>\n",
       "    <tr>\n",
       "      <th>3</th>\n",
       "      <td>4</td>\n",
       "      <td>0</td>\n",
       "      <td>1</td>\n",
       "      <td>1</td>\n",
       "      <td>0</td>\n",
       "      <td>321</td>\n",
       "      <td>87</td>\n",
       "      <td>10</td>\n",
       "      <td>39</td>\n",
       "      <td>42</td>\n",
       "      <td>30</td>\n",
       "      <td>2</td>\n",
       "      <td>396</td>\n",
       "      <td>101</td>\n",
       "      <td>12</td>\n",
       "      <td>48</td>\n",
       "      <td>46</td>\n",
       "      <td>33</td>\n",
       "      <td>805</td>\n",
       "      <td>40</td>\n",
       "      <td>4</td>\n",
       "      <td>91.5</td>\n",
       "    </tr>\n",
       "    <tr>\n",
       "      <th>4</th>\n",
       "      <td>5</td>\n",
       "      <td>1</td>\n",
       "      <td>0</td>\n",
       "      <td>0</td>\n",
       "      <td>1</td>\n",
       "      <td>594</td>\n",
       "      <td>169</td>\n",
       "      <td>4</td>\n",
       "      <td>74</td>\n",
       "      <td>51</td>\n",
       "      <td>35</td>\n",
       "      <td>11</td>\n",
       "      <td>4408</td>\n",
       "      <td>1133</td>\n",
       "      <td>19</td>\n",
       "      <td>501</td>\n",
       "      <td>336</td>\n",
       "      <td>194</td>\n",
       "      <td>282</td>\n",
       "      <td>421</td>\n",
       "      <td>25</td>\n",
       "      <td>750.0</td>\n",
       "    </tr>\n",
       "  </tbody>\n",
       "</table>\n",
       "</div>"
      ],
      "text/plain": [
       "   index  0  1  2  3    4    5   6   7   8   9  10    11    12   13   14   15   16   17   18  19     20\n",
       "0      1  0  1  0  1  315   81   7  24  38  39  14  3449   835   69  321  414  375  632   43  10  475.0\n",
       "1      2  1  0  0  1  479  130  18  66  72  76   3  1624   457   63  224  266  263  880   82  14  480.0\n",
       "2      3  0  1  1  0  496  141  20  65  78  37  11  5628  1575  225  828  838  354  200   11   3  500.0\n",
       "3      4  0  1  1  0  321   87  10  39  42  30   2   396   101   12   48   46   33  805   40   4   91.5\n",
       "4      5  1  0  0  1  594  169   4  74  51  35  11  4408  1133   19  501  336  194  282  421  25  750.0"
      ]
     },
     "execution_count": 36,
     "metadata": {},
     "output_type": "execute_result"
    }
   ],
   "source": [
    "data_new=pd.concat([data_dummy1,data_obj2],axis=1,ignore_index=True).reset_index()\n",
    "data_new.head()"
   ]
  },
  {
   "cell_type": "code",
   "execution_count": 37,
   "metadata": {
    "id": "JbUKSYllVDXb",
    "outputId": "57c31c5c-3f53-400b-af26-fe68e1e8c4a4"
   },
   "outputs": [
    {
     "data": {
      "text/plain": [
       "(263, 21)"
      ]
     },
     "execution_count": 37,
     "metadata": {},
     "output_type": "execute_result"
    }
   ],
   "source": [
    "data_new.drop(columns=['index'],inplace=True)\n",
    "data_new.shape"
   ]
  },
  {
   "cell_type": "code",
   "execution_count": 38,
   "metadata": {
    "id": "uDfD3eFwexQR",
    "outputId": "bd2154d3-8c74-491a-ac04-83a2d993965a"
   },
   "outputs": [
    {
     "data": {
      "text/plain": [
       "(263,)"
      ]
     },
     "execution_count": 38,
     "metadata": {},
     "output_type": "execute_result"
    }
   ],
   "source": [
    "labels.shape"
   ]
  },
  {
   "cell_type": "code",
   "execution_count": 39,
   "metadata": {
    "id": "6Es3_nW6VDXd"
   },
   "outputs": [],
   "source": [
    "replace_dict = {'A': 0, 'N': 1}\n",
    "labels.replace(to_replace=replace_dict,inplace=True)"
   ]
  },
  {
   "cell_type": "code",
   "execution_count": 40,
   "metadata": {
    "id": "afT8qhl5VDXd",
    "outputId": "b542aaf2-d48b-462d-e664-00f5398eb21d"
   },
   "outputs": [
    {
     "data": {
      "text/plain": [
       "1    1\n",
       "2    0\n",
       "3    1\n",
       "4    1\n",
       "5    0\n",
       "Name: NewLeague, dtype: int64"
      ]
     },
     "execution_count": 40,
     "metadata": {},
     "output_type": "execute_result"
    }
   ],
   "source": [
    "labels.head()"
   ]
  },
  {
   "cell_type": "code",
   "execution_count": 41,
   "metadata": {
    "id": "YcVTyMRQs9Z1"
   },
   "outputs": [],
   "source": [
    "from sklearn.model_selection import train_test_split"
   ]
  },
  {
   "cell_type": "code",
   "execution_count": 42,
   "metadata": {
    "id": "QoEhBy1KVDXf"
   },
   "outputs": [],
   "source": [
    "xtrain,xtest,ytrain,ytest=train_test_split(data_new,labels,test_size=0.2,random_state=30)"
   ]
  },
  {
   "cell_type": "code",
   "execution_count": 43,
   "metadata": {
    "id": "69CFnOCkfSDv",
    "outputId": "7a99e10e-c583-4359-d1cd-41ba100b7b80"
   },
   "outputs": [
    {
     "name": "stdout",
     "output_type": "stream",
     "text": [
      "(210, 21)\n",
      "(210,)\n",
      "(53, 21)\n",
      "(53,)\n"
     ]
    }
   ],
   "source": [
    "print(xtrain.shape)\n",
    "print(ytrain.shape)\n",
    "print(xtest.shape)\n",
    "print(ytest.shape)"
   ]
  },
  {
   "cell_type": "code",
   "execution_count": 44,
   "metadata": {
    "id": "KgwauBFIVDXf"
   },
   "outputs": [],
   "source": [
    "from sklearn.linear_model import LogisticRegression,LinearRegression\n",
    "from sklearn.metrics import accuracy_score,confusion_matrix,r2_score"
   ]
  },
  {
   "cell_type": "code",
   "execution_count": 45,
   "metadata": {
    "id": "nZ5YH5lzVDXg",
    "outputId": "74f9d19d-3359-49ed-97a6-a90442814944"
   },
   "outputs": [
    {
     "name": "stdout",
     "output_type": "stream",
     "text": [
      "Testing Accuracy of Logistic Regression: 0.5849056603773585\n"
     ]
    }
   ],
   "source": [
    "log_reg=LogisticRegression()\n",
    "log_reg.fit(xtrain,ytrain)\n",
    "ypred_log=log_reg.predict(xtest)\n",
    "print('Testing Accuracy of Logistic Regression:',accuracy_score(ytest,ypred_log))"
   ]
  },
  {
   "cell_type": "code",
   "execution_count": 46,
   "metadata": {
    "id": "6eLTMArrVDXg",
    "outputId": "b9f1c2ae-b4bb-4cc6-a0b6-70b43a11696e"
   },
   "outputs": [
    {
     "data": {
      "text/plain": [
       "array([0, 0, 1, 1, 0, 1, 0, 0, 0, 0, 0, 1, 0, 1, 0, 1, 1, 0, 1, 0, 1, 1,\n",
       "       0, 0, 1, 0, 1, 1, 1, 0, 0, 0, 0, 1, 0, 0, 1, 1, 0, 1, 1, 0, 0, 0,\n",
       "       1, 0, 0, 1, 0, 1, 0, 1, 0], dtype=int64)"
      ]
     },
     "execution_count": 46,
     "metadata": {},
     "output_type": "execute_result"
    }
   ],
   "source": [
    "ypred_log"
   ]
  },
  {
   "cell_type": "code",
   "execution_count": 47,
   "metadata": {
    "id": "TyJ_WRduVDXh"
   },
   "outputs": [],
   "source": [
    "logistic_coef = log_reg.coef_"
   ]
  },
  {
   "cell_type": "code",
   "execution_count": 48,
   "metadata": {
    "id": "yUT1n4_iVDXh"
   },
   "outputs": [],
   "source": [
    "lin_reg=LinearRegression()\n",
    "lin_reg.fit(xtrain,ytrain)\n",
    "ypred_lin=lin_reg.predict(xtest)"
   ]
  },
  {
   "cell_type": "code",
   "execution_count": 49,
   "metadata": {
    "id": "iZAvPpABVDXh",
    "outputId": "38142ea9-4dc0-480a-dbce-2a1bc1786045"
   },
   "outputs": [
    {
     "data": {
      "text/plain": [
       "array([ 0.78982646, -0.06540186,  0.10219788,  0.03522899, -0.02251741,\n",
       "        0.14706496, -0.0011352 , -0.02103582,  1.00386009,  0.85280139,\n",
       "        0.74691693,  0.92917831,  0.03771497,  0.06495399,  0.03385135,\n",
       "        1.00183608,  0.15971671,  0.8813806 ,  0.28694459,  0.09546937,\n",
       "        0.07031923,  0.98287766,  0.00724707, -0.02292363,  0.09995106,\n",
       "        0.05480465,  0.96709791,  0.93742351,  0.00307152,  0.0497751 ,\n",
       "        0.99437001, -0.03743984,  0.16384555,  0.89642322,  0.0742902 ,\n",
       "       -0.08817506,  0.96912527,  1.04294733, -0.0686312 ,  0.06502587,\n",
       "        0.93302507, -0.09183446,  0.85583434, -0.04678785, -0.00826499,\n",
       "        0.19786031,  0.07064001,  0.96395259,  0.86108421,  0.93096668,\n",
       "        0.8848538 ,  1.00476409,  0.95142923])"
      ]
     },
     "execution_count": 49,
     "metadata": {},
     "output_type": "execute_result"
    }
   ],
   "source": [
    "ypred_lin"
   ]
  },
  {
   "cell_type": "code",
   "execution_count": 50,
   "metadata": {
    "id": "RTD1n8WSVDXi"
   },
   "outputs": [],
   "source": [
    "linear_coef=lin_reg.coef_"
   ]
  },
  {
   "cell_type": "code",
   "execution_count": 51,
   "metadata": {
    "id": "y8sJjnG7ftru",
    "outputId": "2cde8af8-7e17-4da7-c646-c79ce8d97876"
   },
   "outputs": [
    {
     "name": "stdout",
     "output_type": "stream",
     "text": [
      "[-4.33276757e-01  4.33276757e-01 -8.04539117e-03  8.04539117e-03\n",
      "  1.03371878e-03 -3.89092099e-03 -9.20576739e-03  2.67476311e-03\n",
      "  1.41958178e-03  1.02395457e-03 -2.25745256e-03 -1.18679206e-04\n",
      "  1.36227231e-03  2.08664117e-03 -1.54600894e-03 -9.08154594e-04\n",
      "  1.52288898e-04  2.44323111e-06 -9.91347617e-05 -4.95823521e-03\n",
      " -1.65537896e-05]\n",
      "\n",
      "\n",
      "[[-1.12195106e-02  1.09133817e-02  1.13266835e-04 -4.19395701e-04\n",
      "   2.67219534e-03 -1.34312488e-02 -1.28156262e-02 -1.00842807e-02\n",
      "  -1.46424785e-02  3.43958792e-02 -8.64666161e-03 -1.11038945e-03\n",
      "   1.12037765e-02  7.30374081e-03 -1.34796987e-02 -2.73817519e-03\n",
      "   1.13218730e-05  8.66434028e-04  4.99458942e-04  1.11688866e-02\n",
      "   2.38303991e-04]]\n"
     ]
    }
   ],
   "source": [
    "print(linear_coef)\n",
    "print('\\n')\n",
    "print(logistic_coef)"
   ]
  },
  {
   "cell_type": "code",
   "execution_count": 52,
   "metadata": {
    "id": "v_pN_NucuK7O",
    "outputId": "7bd23447-0623-4a32-90cc-d22c048229fd"
   },
   "outputs": [
    {
     "data": {
      "image/png": "[encoded data removed]",
      "text/plain": [
       "<Figure size 640x480 with 1 Axes>"
      ]
     },
     "metadata": {},
     "output_type": "display_data"
    }
   ],
   "source": [
    "from sklearn.metrics import roc_curve,auc, roc_auc_score\n",
    "import matplotlib.pyplot as plt\n",
    "ypred_prob_log=log_reg.predict_proba(xtest)[:,1]\n",
    "\n",
    "# Calculate ROC curve for logistic regression\n",
    "log_fpr, log_tpr, _ = roc_curve(ytest,ypred_prob_log)\n",
    "log_roc_auc = auc(log_fpr,log_tpr)\n",
    "\n",
    "# Calculate ROC curve for linear regression\n",
    "lin_fpr, lin_tpr, _ = roc_curve(ytest,ypred_lin)\n",
    "lin_roc_auc = auc(lin_fpr,lin_tpr)\n",
    "\n",
    "# Plot ROC curves\n",
    "plt.figure()\n",
    "plt.plot(log_fpr,log_tpr, color='darkorange', lw=2, label='Logistic ROC curve (area = %0.2f)' %log_roc_auc)\n",
    "plt.plot(lin_fpr,lin_tpr, color='blue', lw=2, label='Linear ROC curve (area = %0.2f)' %lin_roc_auc)\n",
    "plt.plot([0, 1], [0, 1], color='gray', linestyle='--')\n",
    "plt.xlim([0.0, 1.0])\n",
    "plt.ylim([0.0, 1.05])\n",
    "plt.xlabel('False Positive Rate')\n",
    "plt.ylabel('True Positive Rate')\n",
    "plt.title('Receiver Operating Characteristic')\n",
    "plt.legend(loc='lower right')\n",
    "plt.show()"
   ]
  },
  {
   "cell_type": "code",
   "execution_count": 53,
   "metadata": {
    "id": "EA9xNAK6VDXl",
    "outputId": "26c9e8a8-47ab-42a6-8900-f35ad0e38bfa"
   },
   "outputs": [
    {
     "data": {
      "image/png": "[encoded data removed]",
      "text/plain": [
       "<Figure size 640x480 with 1 Axes>"
      ]
     },
     "metadata": {},
     "output_type": "display_data"
    },
    {
     "data": {
      "image/png": "[encoded data removed]",
      "text/plain": [
       "<Figure size 640x480 with 1 Axes>"
      ]
     },
     "metadata": {},
     "output_type": "display_data"
    },
    {
     "name": "stdout",
     "output_type": "stream",
     "text": [
      "area under the curve for Linear Reg Model=  0.8720238095238095\n",
      "area under the curve for Logistic Reg Model=  0.5744047619047619\n",
      "Optimal Threshold for Linear Model=  1.0429473287101045\n",
      "Optimal Threshold for Logistic Model=  1\n",
      "Optimal f1 score for Linear Model=  0.0\n",
      "Optimal f1 score for Logistic Model=  0.0\n"
     ]
    }
   ],
   "source": [
    "from sklearn.metrics import *\n",
    "import numpy as np\n",
    "from typing import Tuple, List\n",
    "\n",
    "def linear_pred_and_area_under_curve(linear_model, x_test: np.ndarray, y_test: np.ndarray) -> Tuple[np.array, np.array, np.array, np.array, float]:\n",
    "    \n",
    "    ypred_lin=linear_model.predict(x_test)\n",
    "    lin_fpr, lin_tpr,lin_thresholds = roc_curve(y_test,ypred_lin)\n",
    "    lin_roc_auc = auc(lin_fpr,lin_tpr)\n",
    "    auroc_linear = roc_auc_score(y_test, ypred_lin)\n",
    "    \n",
    "    plt.figure()\n",
    "    plt.plot(lin_fpr,lin_tpr, color='blue', lw=2, label='Linear ROC curve (area = %0.2f)' %auroc_linear)\n",
    "    plt.plot([0, 1], [0, 1], color='gray', linestyle='--')\n",
    "    plt.xlim([0.0, 1.0])\n",
    "    plt.ylim([0.0, 1.05])\n",
    "    plt.xlabel('False Positive Rate')\n",
    "    plt.ylabel('True Positive Rate')\n",
    "    plt.title('Receiver Operating Characteristic')\n",
    "    plt.legend(loc='lower right')\n",
    "    plt.show()\n",
    "\n",
    "\n",
    "    return ypred_lin,lin_fpr,lin_tpr,lin_thresholds,auroc_linear\n",
    "\n",
    "\n",
    "def logistic_pred_and_area_under_curve(logistic_model, x_test: np.ndarray, y_test: np.ndarray) -> Tuple[np.array, np.array, np.array, np.array, float]:\n",
    "    \n",
    "    ypred_log=logistic_model.predict(x_test)\n",
    "    log_fpr,log_tpr,log_thresholds=roc_curve(y_test,ypred_log)\n",
    "    log_roc_auc=auc(log_fpr,log_tpr)\n",
    "    auroc_logistic = roc_auc_score(y_test, ypred_log)\n",
    "    \n",
    "    plt.figure()\n",
    "    plt.plot(log_fpr,log_tpr, color='darkorange', lw=2, label='Logistic ROC curve (area = %0.2f)' %auroc_logistic)\n",
    "    plt.plot([0, 1], [0, 1], color='gray', linestyle='--')\n",
    "    plt.xlim([0.0, 1.0])\n",
    "    plt.ylim([0.0, 1.05])\n",
    "    plt.xlabel('False Positive Rate')\n",
    "    plt.ylabel('True Positive Rate')\n",
    "    plt.title('Receiver Operating Characteristic')\n",
    "    plt.legend(loc='lower right')\n",
    "    plt.show()\n",
    "    \n",
    "    return ypred_log,log_fpr,log_tpr,log_thresholds,auroc_logistic\n",
    "\n",
    "\n",
    "\n",
    "\n",
    "\n",
    "\n",
    "linear_y_pred, linear_reg_fpr, linear_reg_tpr, linear_threshold, linear_reg_area_under_curve = linear_pred_and_area_under_curve(lin_reg, xtest, ytest)\n",
    "\n",
    "log_y_pred, log_reg_fpr, log_reg_tpr, log_threshold, log_reg_area_under_curve = logistic_pred_and_area_under_curve(log_reg, xtest, ytest)\n",
    "\n",
    "\n",
    "print('area under the curve for Linear Reg Model= ', linear_reg_area_under_curve )\n",
    "print('area under the curve for Logistic Reg Model= ', log_reg_area_under_curve )\n",
    "\n",
    "#linear\n",
    "lin_optimal_thresold = linear_threshold[np.argmax(log_reg_tpr-log_reg_fpr)]\n",
    "lin_optimal_ypred = (ypred_lin > lin_optimal_thresold).astype(int)\n",
    "lin_f1_score_optimal = f1_score(ytest, lin_optimal_ypred)\n",
    "\n",
    "\n",
    "#logistic\n",
    "log_optimal_thresold = log_threshold[np.argmax(log_reg_tpr-log_reg_fpr)]\n",
    "log_optimal_ypred = (ypred_log > log_optimal_thresold).astype(int)\n",
    "log_f1_score_optimal = f1_score(ytest, log_optimal_ypred)\n",
    "\n",
    "\n",
    "print('Optimal Threshold for Linear Model= ', lin_optimal_thresold)\n",
    "print('Optimal Threshold for Logistic Model= ', log_optimal_thresold)\n",
    "\n",
    "print('Optimal f1 score for Linear Model= ',lin_f1_score_optimal)\n",
    "print('Optimal f1 score for Logistic Model= ',log_f1_score_optimal)"
   ]
  },
  {
   "cell_type": "code",
   "execution_count": 54,
   "metadata": {
    "id": "b1r4OxTftmPu",
    "outputId": "c9afdb70-aba4-49dd-ac2b-bc5fa36fb4da"
   },
   "outputs": [
    {
     "name": "stdout",
     "output_type": "stream",
     "text": [
      "Fold 1:\n",
      "Fold 2:\n",
      "Fold 3:\n",
      "Fold 4:\n",
      "Fold 5:\n",
      "[21, 21, 21, 21, 21] [0.9421428571428572, 0.9085714285714286, 0.8857758620689655, 0.9404761904761905, 0.9255952380952381] [0.95, 0.8985714285714286, 0.9166666666666666, 0.9464285714285714, 0.9598214285714286] [0.9387755102040817, 0.9056603773584904, 0.875, 0.9361702127659574, 0.9199999999999999] [0, 0, 0, 0, 0]\n"
     ]
    }
   ],
   "source": [
    "from sklearn.model_selection import StratifiedKFold\n",
    "from sklearn.metrics import f1_score\n",
    "\n",
    "num_folds= 5\n",
    "skf = StratifiedKFold(n_splits=num_folds, shuffle=True, random_state= 42)\n",
    "\n",
    "\n",
    "def train_test_folds(skf, num_of_folds: int) -> Tuple[np.ndarray, np.ndarray, np.ndarray, dict]:\n",
    "    \n",
    "    num_of_folds = num_of_folds\n",
    "    max_iter = 100000008\n",
    "\n",
    "    X = data_new\n",
    "    y = labels\n",
    "    auc_log_score = []\n",
    "    auc_linear_score = []\n",
    "    features_count = []\n",
    "    f1_log= []\n",
    "    f1_linear= []\n",
    "\n",
    "    model1=LogisticRegression(penalty='l2', C=1/12, solver='liblinear')\n",
    "    model2=LinearRegression()\n",
    "\n",
    "\n",
    "    # Iterate through the SKfolds\n",
    "    for fold, (train_indices, val_indices) in enumerate(skf.split(X, y)):\n",
    "        print(f\"Fold {fold+1}:\")\n",
    "        # print(X.shape)\n",
    "        # print(y.shape)\n",
    "        # print(train_indices)\n",
    "        #print(val_indices)\n",
    "        X=np.array(X)\n",
    "        y=np.array(y)\n",
    "\n",
    "        X_train, X_val = X[train_indices], X[val_indices]\n",
    "        y_train, y_val = y[train_indices], y[val_indices]\n",
    "        num_features=X_train.shape[1]\n",
    "    # Train the model\n",
    "        model1.fit(X_train, y_train)\n",
    "        model2.fit(X_train,y_train)\n",
    "\n",
    "    # Validate the model\n",
    "        y_pred_log=model1.predict(X_val)\n",
    "        y_pred_lin=model2.predict(X_val)\n",
    "        f1= f1_score(y_val, y_pred_log)\n",
    "        f2=0\n",
    "        log_fpr,log_tpr,thresholds=roc_curve(y_val,y_pred_log)\n",
    "#         log_auc=auc(log_fpr,log_tpr)\n",
    "        auroc_lo_score = roc_auc_score(y_val, y_pred_log)\n",
    "        \n",
    "        lin_fpr,lin_tpr,thresholds=roc_curve(y_val,y_pred_lin)\n",
    "#         lin_auc=auc(log_fpr,log_tpr)\n",
    "        auroc_li_score = roc_auc_score(y_val, y_pred_lin)\n",
    "\n",
    "        f1_log.append(f1)\n",
    "        f1_linear.append(f2)\n",
    "        features_count.append(num_features)\n",
    "        auc_log_score.append(auroc_lo_score)\n",
    "        auc_linear_score.append(auroc_li_score)\n",
    "\n",
    "\n",
    "\n",
    "\n",
    "    return features_count, auc_log_score, auc_linear_score, f1_log,f1_linear\n",
    "\n",
    "\n",
    "\n",
    "num_folds= 5\n",
    "# skf = StratifiedKFold(n_splits=num_folds, shuffle=True, random_state= 42)\n",
    "features_count, auc_log_score, auc_linear_score, f1_log, f1_linear = train_test_folds(skf, num_folds)\n",
    "print(features_count, auc_log_score, auc_linear_score, f1_log, f1_linear)"
   ]
  },
  {
   "cell_type": "code",
   "execution_count": 56,
   "metadata": {
    "id": "vJqlU1zMx5pb"
   },
   "outputs": [
    {
     "name": "stdout",
     "output_type": "stream",
     "text": [
      "True\n"
     ]
    }
   ],
   "source": [
    "def is_features_count_changed(features_count: np.array) -> bool:\n",
    "  \n",
    "    feature_set = set(features_count)\n",
    "    if len(feature_set)!=len(features_count):\n",
    "        print('True')\n",
    "    else:\n",
    "        print('False')\n",
    "    \n",
    "\n",
    "is_features_count_changed(features_count)"
   ]
  },
  {
   "cell_type": "code",
   "execution_count": 57,
   "metadata": {
    "id": "F-_CfNYqyUvw"
   },
   "outputs": [],
   "source": [
    "def mean_confidence_interval(score_array: np.array, confidence=0.95) -> Tuple[float, float, float]:\n",
    "\n",
    "    mean = np.mean(score_array)\n",
    "    UB = mean + 1.96*(np.std(score_array)/len(score_array))\n",
    "    LB = mean - 1.96*(np.std(score_array)/len(score_array))\n",
    "    \n",
    "    ci = [mean, LB, UB]\n",
    "    return ci"
   ]
  },
  {
   "cell_type": "code",
   "execution_count": 58,
   "metadata": {
    "id": "hs98luUgvf-b",
    "outputId": "ca2396ba-2077-41b9-c8fc-836b0f1898c6"
   },
   "outputs": [
    {
     "name": "stdout",
     "output_type": "stream",
     "text": [
      "mean and 95% confidence interval for the AUROCs for linear model=  [0.920512315270936, 0.9122125009917429, 0.9288121295501292]\n",
      "mean and 95% confidence interval for the AUROCs for logistic model=  [0.920512315270936, 0.9122125009917429, 0.9288121295501292]\n"
     ]
    }
   ],
   "source": [
    "auc_linear_mean, auc_linear_open_interval, auc_linear_close_interval = 0, 0, 0\n",
    "auc_log_mean, auc_log_open_interval, auc_log_close_interval = 0, 0, 0\n",
    "\n",
    "print('mean and 95% confidence interval for the AUROCs for linear model= '    , mean_confidence_interval(auc_log_score))\n",
    "print('mean and 95% confidence interval for the AUROCs for logistic model= '  , mean_confidence_interval(auc_log_score))"
   ]
  },
  {
   "cell_type": "code",
   "execution_count": 59,
   "metadata": {
    "id": "ALICZqDovo8F"
   },
   "outputs": [
    {
     "name": "stdout",
     "output_type": "stream",
     "text": [
      "mean and 95% confidence interval for the f1 score for linear model=  [0.0, 0.0, 0.0]\n",
      "mean and 95% confidence interval for the f1 score for linear model=  [0.915121220065706, 0.9059688672721727, 0.9242735728592392]\n"
     ]
    }
   ],
   "source": [
    "f1_linear_mean, f1_linear_open_interval, f1_linear_close_interval = 0, 0, 0\n",
    "f1_log_mean, f1_log_open_interval, f1_log_close_interval = 0, 0, 0\n",
    "\n",
    "print('mean and 95% confidence interval for the f1 score for linear model= '  , mean_confidence_interval(f1_linear))\n",
    "print('mean and 95% confidence interval for the f1 score for linear model= '  , mean_confidence_interval(f1_log))"
   ]
  },
  {
   "cell_type": "code",
   "execution_count": null,
   "metadata": {
    "id": "R4ONLVGKVDXs"
   },
   "outputs": [],
   "source": [
    "#end"
   ]
  }
 ],
 "metadata": {
  "colab": {
   "provenance": []
  },
  "kernelspec": {
   "display_name": "Python 3 (ipykernel)",
   "language": "python",
   "name": "python3"
  },
  "language_info": {
   "codemirror_mode": {
    "name": "ipython",
    "version": 3
   },
   "file_extension": ".py",
   "mimetype": "text/x-python",
   "name": "python",
   "nbconvert_exporter": "python",
   "pygments_lexer": "ipython3",
   "version": "3.9.13"
  }
 },
 "nbformat": 4,
 "nbformat_minor": 1
}
